{
 "cells": [
  {
   "cell_type": "markdown",
   "metadata": {},
   "source": [
    "Train a multilayer perceptron on the MNIST dataset. Compare a “vanilla” model with a model using drop-out. Visualize the learning curves.\n",
    "[Running model 10pts, model selection 5pts, dropout 5pts, BN 5pts, learning curve 5pts]\n"
   ]
  },
  {
   "cell_type": "code",
   "execution_count": 1,
   "metadata": {
    "collapsed": false
   },
   "outputs": [
    {
     "name": "stderr",
     "output_type": "stream",
     "text": [
      "Using TensorFlow backend.\n"
     ]
    }
   ],
   "source": [
    "import keras\n",
    "from keras.models import Sequential\n",
    "from keras.layers import Dense\n",
    "from sklearn.model_selection import train_test_split\n",
    "import pandas as pd\n",
    "import matplotlib.pyplot as plt\n",
    "from keras.wrappers.scikit_learn import KerasClassifier, KerasRegressor\n",
    "from sklearn.model_selection import GridSearchCV\n",
    "from keras.layers import Dropout\n",
    "from keras import backend as K"
   ]
  },
  {
   "cell_type": "code",
   "execution_count": 5,
   "metadata": {
    "collapsed": true
   },
   "outputs": [],
   "source": [
    "# load data\n",
    "from keras.datasets import mnist"
   ]
  },
  {
   "cell_type": "code",
   "execution_count": 6,
   "metadata": {
    "collapsed": true
   },
   "outputs": [],
   "source": [
    "def mnist_data_split():\n",
    "    r\"\"\"return processed train and test data,\n",
    "    the actual process takes place here includes:\n",
    "    1. reshape to nofrows, 28, 28, 1\n",
    "    2. shuffle\n",
    "    3. dummify labels\n",
    "    \"\"\"\n",
    "    (x_train, y_train), (x_test, y_test) = mnist.load_data()\n",
    "    # input image dimensions\n",
    "    img_rows, img_cols = 28, 28\n",
    "    num_classes = 10\n",
    "    # the data, shuffled and split between train and test sets\n",
    "    \n",
    "    x_train = x_train.reshape(60000, 784)\n",
    "    x_test = x_test.reshape(10000, 784)\n",
    "    x_train = x_train.astype('float32')\n",
    "    x_test = x_test.astype('float32')\n",
    "    x_train /= 255\n",
    "    x_test /= 255\n",
    "    print('x_train shape:', x_train.shape)\n",
    "    print(x_train.shape[0], 'train samples')\n",
    "    print(x_test.shape[0], 'test samples')\n",
    "    \n",
    "    # convert class vectors to binary class matrices\n",
    "    y_train = keras.utils.to_categorical(y_train, num_classes)\n",
    "    y_test = keras.utils.to_categorical(y_test, num_classes)\n",
    "    \n",
    "    y_train = y_train.astype('int32')\n",
    "    y_test = y_test.astype('int32')\n",
    "    \n",
    "    print(\"after process: X train shape: {}, X test shape: {}, y train shape: {}, y test shape: {}\".format(x_train.shape, x_test.shape, y_train.shape, y_test.shape))\n",
    "    return  x_train, x_test, y_train, y_test"
   ]
  },
  {
   "cell_type": "code",
   "execution_count": 7,
   "metadata": {
    "collapsed": false
   },
   "outputs": [
    {
     "name": "stdout",
     "output_type": "stream",
     "text": [
      "('x_train shape:', (60000, 784))\n",
      "(60000, 'train samples')\n",
      "(10000, 'test samples')\n",
      "after process: X train shape: (60000, 784), X test shape: (10000, 784), y train shape: (60000, 10), y test shape: (10000, 10)\n"
     ]
    }
   ],
   "source": [
    "x_train, x_test, y_train, y_test = mnist_data_split()"
   ]
  },
  {
   "cell_type": "code",
   "execution_count": 8,
   "metadata": {
    "collapsed": false
   },
   "outputs": [
    {
     "name": "stdout",
     "output_type": "stream",
     "text": [
      "inputshape is : 784\n"
     ]
    }
   ],
   "source": [
    "print (\"inputshape is : {}\".format(x_train.shape[1]))"
   ]
  },
  {
   "cell_type": "markdown",
   "metadata": {},
   "source": [
    "### the vanila baseline has test accuracy 0.9657"
   ]
  },
  {
   "cell_type": "code",
   "execution_count": 11,
   "metadata": {
    "collapsed": true
   },
   "outputs": [],
   "source": [
    "def train_mnist_nnet_baseline( x_train, x_test, y_train, y_test):\n",
    "    r\"\"\"\n",
    "    Returns\n",
    "    -------\n",
    "    hisotry_callback : <class 'keras.callbacks.History'>\n",
    "        used for retrospective examiniation\n",
    "    \"\"\"\n",
    "    \n",
    "    num_class = 10\n",
    "    epochs = 32\n",
    "    batch_size = 128\n",
    "    input_shape = (784, ) #(784, )\n",
    "    model = Sequential()\n",
    "    model.add(Dense(32, input_shape=input_shape, activation=\"relu\"))\n",
    "    model.add(Dense(16, activation=\"relu\"))\n",
    "    model.add(Dense(num_class, activation=\"softmax\"))\n",
    "    \n",
    "    model.compile(loss=\"categorical_crossentropy\", \n",
    "                  optimizer=\"adam\", \n",
    "                  metrics=['accuracy'])\n",
    "    \n",
    "    history_callback = model.fit(\n",
    "                  x_train, \n",
    "                  y_train, \n",
    "                  verbose=0, \n",
    "                  batch_size=batch_size,\n",
    "                  validation_data=(x_test, y_test),\n",
    "                  epochs=epochs\n",
    "              )\n",
    "    \n",
    "    score = model.evaluate(x_test, y_test, verbose=0)\n",
    "    \n",
    "    print(\"Test loss: {}\".format(score[0]))\n",
    "    print(\"Test accuracy: {}\".format(score[1]))\n",
    "    #print(model.summary())\n",
    "\n",
    "    return history_callback"
   ]
  },
  {
   "cell_type": "code",
   "execution_count": 12,
   "metadata": {
    "collapsed": false,
    "scrolled": true
   },
   "outputs": [
    {
     "name": "stdout",
     "output_type": "stream",
     "text": [
      "Test loss: 0.135442050519\n",
      "Test accuracy: 0.9657\n",
      "CPU times: user 1min 13s, sys: 2.93 s, total: 1min 16s\n",
      "Wall time: 51.1 s\n"
     ]
    }
   ],
   "source": [
    "%time callback = train_mnist_nnet_baseline(x_train, x_test, y_train, y_test)"
   ]
  },
  {
   "cell_type": "code",
   "execution_count": 13,
   "metadata": {
    "collapsed": true
   },
   "outputs": [],
   "source": [
    "def plot_history(logger):\n",
    "\n",
    "    df = pd.DataFrame(logger)\n",
    "    df[['acc', 'val_acc']].plot()\n",
    "    plt.ylabel(\"accuracy\")\n",
    "    plt.ylabel(\"loss\")"
   ]
  },
  {
   "cell_type": "markdown",
   "metadata": {},
   "source": [
    "### learning curve of the baseline single model"
   ]
  },
  {
   "cell_type": "code",
   "execution_count": 14,
   "metadata": {
    "collapsed": false
   },
   "outputs": [
    {
     "data": {
      "image/png": "[encoded data removed]",
      "text/plain": [
       "<matplotlib.figure.Figure at 0x7f6e306cb410>"
      ]
     },
     "metadata": {},
     "output_type": "display_data"
    }
   ],
   "source": [
    "%matplotlib inline\n",
    "plot_history(callback.history)"
   ]
  },
  {
   "cell_type": "markdown",
   "metadata": {},
   "source": [
    "### Model selection using grid search (without dropout)"
   ]
  },
  {
   "cell_type": "markdown",
   "metadata": {},
   "source": [
    "the best combination of parameters for a network without dropout are:  \n",
    "    1. 64 epoches  \n",
    "    2. first hidden layer with size 64, second hidden layer with size 32  \n",
    "    3. with batch size fixed with 128  \n",
    "achieves 0.971 test score"
   ]
  },
  {
   "cell_type": "code",
   "execution_count": 15,
   "metadata": {
    "collapsed": true
   },
   "outputs": [],
   "source": [
    "def make_mnist_nnet(hidden_size=16):\n",
    "    r\"\"\"\n",
    "    Returns\n",
    "    -------\n",
    "    model : model itself\n",
    "    \"\"\"\n",
    "    \n",
    "    num_class = 10\n",
    "    input_shape = (784, ) #(784, )\n",
    "    model = Sequential()\n",
    "    model.add(Dense(hidden_size, input_shape=input_shape, activation=\"relu\"))\n",
    "    model.add(Dense(int(hidden_size/2), activation=\"relu\"))\n",
    "    model.add(Dense(num_class, activation=\"softmax\"))\n",
    "    \n",
    "    model.compile(loss=\"categorical_crossentropy\", \n",
    "                  optimizer=\"adam\", \n",
    "                  metrics=['accuracy'])\n",
    "\n",
    "\n",
    "    return model"
   ]
  },
  {
   "cell_type": "code",
   "execution_count": 16,
   "metadata": {
    "collapsed": true
   },
   "outputs": [],
   "source": [
    "# calculated in by the script on GPU\n",
    "# clf = KerasClassifier(make_mnist_nnet)\n",
    "# param_grid = {'epochs': [12, 32, 64], 'hidden_size': [32, 64], 'batch_size':[128]}\n",
    "# grid = GridSearchCV(clf, param_grid=param_grid, cv=5)\n",
    "# grid.fit(x_train, y_train.astype('int32'))"
   ]
  },
  {
   "cell_type": "code",
   "execution_count": 17,
   "metadata": {
    "collapsed": true
   },
   "outputs": [],
   "source": [
    "# import matplotlib\n",
    "# matplotlib.use('Agg')\n",
    "# import matplotlib.pyplot as plt\n",
    "# %matplotlib inline\n",
    "# res = pd.DataFrame(grid.cv_results_)\n",
    "# res.pivot_table(index=[\"param_epochs\", \"hidden_size\"],\n",
    "#                 values=['mean_train_score', \"mean_test_score\"])"
   ]
  },
  {
   "cell_type": "code",
   "execution_count": null,
   "metadata": {
    "collapsed": true
   },
   "outputs": [],
   "source": [
    "# print (\"mean test score: {} \".format(grid.cv_results_['mean_test_score']))"
   ]
  },
  {
   "cell_type": "code",
   "execution_count": null,
   "metadata": {
    "collapsed": true
   },
   "outputs": [],
   "source": [
    "# print (\"mean train score: {} \".format(grid.cv_results_['mean_train_score']))"
   ]
  },
  {
   "cell_type": "markdown",
   "metadata": {},
   "source": [
    "mean test score: [ 0.95998333  0.9682      0.96158333  0.97016667  0.95916667  0.97126667] \n"
   ]
  },
  {
   "cell_type": "markdown",
   "metadata": {},
   "source": [
    "mean train score: [ 0.9782125   0.9906625   0.99300833  0.99909583  0.99725833  0.99918333] "
   ]
  },
  {
   "cell_type": "markdown",
   "metadata": {},
   "source": [
    "best params: {'epochs': 64, 'hidden_size': 64, 'batch_size': 128}"
   ]
  },
  {
   "cell_type": "markdown",
   "metadata": {},
   "source": [
    "### Add drop out; gridsearch learning rate; test accuracy as 0.974 \n",
    "After grid search of drop out rate, we found that the best score is 0.974 with drop out rate as 0.1, which is 0.8% higher that vanila baseline"
   ]
  },
  {
   "cell_type": "code",
   "execution_count": 25,
   "metadata": {
    "collapsed": true
   },
   "outputs": [],
   "source": [
    "# grid search drop out value \n",
    "def make_mnist_nnet_dropout(dropout_rate=0.2):\n",
    "    r\"\"\"\n",
    "    Returns\n",
    "    -------\n",
    "    model : model itself\n",
    "    \"\"\"\n",
    "    num_class = 10\n",
    "    hidden_size = 64\n",
    "    input_shape = (784, ) #(784, )\n",
    "    model = Sequential()\n",
    "    model.add(Dense(hidden_size, input_shape=input_shape, activation=\"relu\"))\n",
    "    model.add(Dropout(dropout_rate))\n",
    "    model.add(Dense(int(hidden_size/2), activation=\"relu\"))\n",
    "    model.add(Dropout(dropout_rate))\n",
    "    model.add(Dense(num_class, activation=\"softmax\"))\n",
    "    \n",
    "    model.compile(loss=\"categorical_crossentropy\", \n",
    "                  optimizer=\"adam\", \n",
    "                  metrics=['accuracy'])\n",
    "\n",
    "\n",
    "    return model"
   ]
  },
  {
   "cell_type": "code",
   "execution_count": 27,
   "metadata": {
    "collapsed": false
   },
   "outputs": [],
   "source": [
    "# clf1 = KerasClassifier(make_mnist_nnet_dropout)\n",
    "# param_grid1 = {'epochs': [64], 'dropout_rate': [0.1, 0.2, 0.3], 'batch_size':[128]}\n",
    "# grid1 = GridSearchCV(clf1, param_grid=param_grid1, cv=5)\n",
    "# grid1.fit(x_train, y_train.astype('int32'))"
   ]
  },
  {
   "cell_type": "markdown",
   "metadata": {},
   "source": [
    "best params: {'epochs': 64, 'dropout_rate': 0.1, 'batch_size': 128}  \n",
    "mean test score: [ 0.97425  0.97125  0.9686 ]   \n",
    "mean train score: [ 0.9992125  0.997375   0.9932625]  "
   ]
  },
  {
   "cell_type": "markdown",
   "metadata": {},
   "source": [
    "After running on GPU, we find that adding dropout, with rate as 0.1 achieves, 0.974 test accuracy. "
   ]
  },
  {
   "cell_type": "code",
   "execution_count": 28,
   "metadata": {
    "collapsed": true
   },
   "outputs": [],
   "source": [
    "def train_mnist_dropout_nnet( x_train, x_test, y_train, y_test):\n",
    "    r\"\"\"\n",
    "    Returns\n",
    "    -------\n",
    "    hisotry_callback : <class 'keras.callbacks.History'>\n",
    "        used for retrospective examiniation\n",
    "    \"\"\"\n",
    "    \n",
    "    num_class = 10\n",
    "    epochs = 64\n",
    "    batch_size = 128\n",
    "    input_shape = (784, ) #(784, )\n",
    "    model = Sequential()\n",
    "    model.add(Dense(64, input_shape=input_shape, activation=\"relu\"))\n",
    "    model.add(Dropout(0.1))\n",
    "    model.add(Dense(32, activation=\"relu\"))\n",
    "    model.add(Dropout(0.1))\n",
    "    model.add(Dense(num_class, activation=\"softmax\"))\n",
    "    \n",
    "    model.compile(loss=\"categorical_crossentropy\", \n",
    "                  optimizer=\"adam\", \n",
    "                  metrics=['accuracy'])\n",
    "    \n",
    "    history_callback = model.fit(\n",
    "                  x_train, \n",
    "                  y_train, \n",
    "                  verbose=0, \n",
    "                  batch_size=batch_size,\n",
    "                  validation_data=(x_test, y_test),\n",
    "                  epochs=epochs\n",
    "              )\n",
    "    \n",
    "    score = model.evaluate(x_test, y_test, verbose=0)\n",
    "    \n",
    "    print(\"Test loss: {}\".format(score[0]))\n",
    "    print(\"Test accuracy: {}\".format(score[1]))\n",
    "    #print(model.summary())\n",
    "\n",
    "    return history_callback"
   ]
  },
  {
   "cell_type": "code",
   "execution_count": 29,
   "metadata": {
    "collapsed": false
   },
   "outputs": [
    {
     "name": "stdout",
     "output_type": "stream",
     "text": [
      "Test loss: 0.114401048315\n",
      "Test accuracy: 0.975\n"
     ]
    }
   ],
   "source": [
    "callback1 = train_mnist_dropout_nnet( x_train, x_test, y_train, y_test)"
   ]
  },
  {
   "cell_type": "code",
   "execution_count": 30,
   "metadata": {
    "collapsed": false
   },
   "outputs": [
    {
     "data": {
      "image/png": "[encoded data removed]",
      "text/plain": [
       "<matplotlib.figure.Figure at 0x7f6e297a1210>"
      ]
     },
     "metadata": {},
     "output_type": "display_data"
    }
   ],
   "source": [
    "%matplotlib inline\n",
    "plot_history(callback1.history)"
   ]
  },
  {
   "cell_type": "markdown",
   "metadata": {},
   "source": [
    "#### adding drop out helps, brings up the accuracy by 0.3% from the best DNN without dropout."
   ]
  },
  {
   "cell_type": "code",
   "execution_count": 31,
   "metadata": {
    "collapsed": true
   },
   "outputs": [],
   "source": [
    "def train_mnist_nnet_advanced( x_train, x_test, y_train, y_test, add_dropout=False, hidden_size=64, epochs=32, dropout_rate=0.1):\n",
    "    r\"\"\"\n",
    "    Returns\n",
    "    -------\n",
    "    hisotry_callback : <class 'keras.callbacks.History'>\n",
    "        used for retrospective examiniation\n",
    "    \"\"\"\n",
    "    \n",
    "    num_class = 10\n",
    "    batch_size = 128\n",
    "    input_shape = (784, ) #(784, )\n",
    "    model = Sequential()\n",
    "    model.add(Dense(hidden_size, input_shape=input_shape, activation=\"relu\"))\n",
    "    if add_dropout:\n",
    "        model.add(Dropout(dropout_rate))\n",
    "    model.add(Dense(hidden_size/2, activation=\"relu\"))\n",
    "    if add_dropout:\n",
    "        model.add(Dropout(dropout_rate))\n",
    "    model.add(Dense(num_class, activation=\"softmax\"))\n",
    "    \n",
    "    model.compile(loss=\"categorical_crossentropy\", \n",
    "                  optimizer=\"adam\", \n",
    "                  metrics=['accuracy'])\n",
    "    \n",
    "    history_callback = model.fit(\n",
    "                  x_train, \n",
    "                  y_train, \n",
    "                  verbose=0, \n",
    "                  batch_size=batch_size,\n",
    "                  validation_data=(x_test, y_test),\n",
    "                  epochs=epochs\n",
    "              )\n",
    "    \n",
    "    score = model.evaluate(x_test, y_test, verbose=0)\n",
    "    \n",
    "    print(\"Test loss: {}\".format(score[0]))\n",
    "    print(\"Test accuracy: {}\".format(score[1]))\n",
    "    #print(model.summary())\n",
    "\n",
    "    return history_callback"
   ]
  },
  {
   "cell_type": "markdown",
   "metadata": {},
   "source": [
    "### Learning Curve Comparison"
   ]
  },
  {
   "cell_type": "code",
   "execution_count": 33,
   "metadata": {
    "collapsed": false
   },
   "outputs": [
    {
     "name": "stdout",
     "output_type": "stream",
     "text": [
      "Test loss: 0.180601486817\n",
      "Test accuracy: 0.9734\n"
     ]
    }
   ],
   "source": [
    "c1 = train_mnist_nnet_advanced(x_train, x_test, y_train, y_test, hidden_size=64, epochs=64 )"
   ]
  },
  {
   "cell_type": "code",
   "execution_count": 32,
   "metadata": {
    "collapsed": false
   },
   "outputs": [
    {
     "name": "stdout",
     "output_type": "stream",
     "text": [
      "Test loss: 0.099832948818\n",
      "Test accuracy: 0.9795\n"
     ]
    }
   ],
   "source": [
    "c2 = train_mnist_nnet_advanced(x_train, x_test, y_train, y_test, add_dropout=True, hidden_size=64, epochs=64 )"
   ]
  },
  {
   "cell_type": "code",
   "execution_count": 39,
   "metadata": {
    "collapsed": false,
    "scrolled": true
   },
   "outputs": [
    {
     "data": {
      "text/plain": [
       "(0.8, 1)"
      ]
     },
     "execution_count": 39,
     "metadata": {},
     "output_type": "execute_result"
    },
    {
     "data": {
      "image/png": "[encoded data removed]",
      "text/plain": [
       "<matplotlib.figure.Figure at 0x7f6e2882fd50>"
      ]
     },
     "metadata": {},
     "output_type": "display_data"
    }
   ],
   "source": [
    "hist_c1 = pd.DataFrame(c1.history)\n",
    "hist_c2 = pd.DataFrame(c2.history)\n",
    "hist_c2.rename(columns=lambda x: x + \"_dropout\", inplace=True)\n",
    "hist_c2[['acc_dropout', 'val_acc_dropout']].plot()\n",
    "hist_c1[['acc', 'val_acc']].plot(ax=plt.gca(), linestyle='--')\n",
    "plt.title(\"Dropout vs. NoDropout Learning Curve\")\n",
    "plt.ylim(.8, 1)"
   ]
  },
  {
   "cell_type": "markdown",
   "metadata": {},
   "source": [
    "#### we can see that without dropout the train accuracy is very high, indicating overfitting. With dropout, the test accuracy improves!"
   ]
  }
 ],
 "metadata": {
  "kernelspec": {
   "display_name": "Python 2",
   "language": "python",
   "name": "python2"
  },
  "language_info": {
   "codemirror_mode": {
    "name": "ipython",
    "version": 2
   },
   "file_extension": ".py",
   "mimetype": "text/x-python",
   "name": "python",
   "nbconvert_exporter": "python",
   "pygments_lexer": "ipython2",
   "version": "2.7.12"
  }
 },
 "nbformat": 4,
 "nbformat_minor": 2
}
